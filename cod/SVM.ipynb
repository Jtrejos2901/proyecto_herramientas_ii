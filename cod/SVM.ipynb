{
 "cells": [
  {
   "cell_type": "markdown",
   "id": "f189124a-0493-4d22-ae7b-2e731b438d83",
   "metadata": {},
   "source": [
    "# Support Vector Machine \n",
    "\n",
    "## Paquetes "
   ]
  },
  {
   "cell_type": "code",
   "execution_count": 1,
   "id": "fa802c93-b2d2-46b7-a47d-357b03f23504",
   "metadata": {},
   "outputs": [],
   "source": [
    "import numpy as np\n",
    "import matplotlib.pyplot as plt\n",
    "import pandas as pd\n",
    "from sklearn.svm import SVC\n",
    "from sklearn.model_selection import train_test_split\n",
    "from sklearn.model_selection import GridSearchCV\n",
    "from sklearn.metrics import accuracy_score\n",
    "from sklearn.inspection import permutation_importance\n",
    "import warnings\n",
    "warnings.filterwarnings('ignore')"
   ]
  },
  {
   "cell_type": "markdown",
   "id": "95f9c492-3cf4-4904-8c10-9d0a205bfd9d",
   "metadata": {},
   "source": [
    "## Base de datos"
   ]
  },
  {
   "cell_type": "markdown",
   "id": "5257c302-e7f3-44cc-8b16-22efc4fb3264",
   "metadata": {},
   "source": [
    "Se procede a ingresar la base de datos a utilizar, así también como una descripción de la misma."
   ]
  },
  {
   "cell_type": "code",
   "execution_count": 2,
   "id": "1a847f20-be60-479a-9865-2dfb96ccc9ce",
   "metadata": {},
   "outputs": [
    {
     "data": {
      "text/html": [
       "<div>\n",
       "<style scoped>\n",
       "    .dataframe tbody tr th:only-of-type {\n",
       "        vertical-align: middle;\n",
       "    }\n",
       "\n",
       "    .dataframe tbody tr th {\n",
       "        vertical-align: top;\n",
       "    }\n",
       "\n",
       "    .dataframe thead th {\n",
       "        text-align: right;\n",
       "    }\n",
       "</style>\n",
       "<table border=\"1\" class=\"dataframe\">\n",
       "  <thead>\n",
       "    <tr style=\"text-align: right;\">\n",
       "      <th></th>\n",
       "      <th>Pregnancies</th>\n",
       "      <th>Glucose</th>\n",
       "      <th>BloodPressure</th>\n",
       "      <th>SkinThickness</th>\n",
       "      <th>Insulin</th>\n",
       "      <th>BMI</th>\n",
       "      <th>DiabetesPedigreeFunction</th>\n",
       "      <th>Age</th>\n",
       "      <th>Outcome</th>\n",
       "    </tr>\n",
       "  </thead>\n",
       "  <tbody>\n",
       "    <tr>\n",
       "      <th>count</th>\n",
       "      <td>768.0</td>\n",
       "      <td>768.0</td>\n",
       "      <td>768.0</td>\n",
       "      <td>768.0</td>\n",
       "      <td>768.0</td>\n",
       "      <td>768.0</td>\n",
       "      <td>768.0</td>\n",
       "      <td>768.0</td>\n",
       "      <td>768.0</td>\n",
       "    </tr>\n",
       "    <tr>\n",
       "      <th>mean</th>\n",
       "      <td>4.0</td>\n",
       "      <td>121.0</td>\n",
       "      <td>69.0</td>\n",
       "      <td>21.0</td>\n",
       "      <td>80.0</td>\n",
       "      <td>32.0</td>\n",
       "      <td>0.0</td>\n",
       "      <td>33.0</td>\n",
       "      <td>0.0</td>\n",
       "    </tr>\n",
       "    <tr>\n",
       "      <th>std</th>\n",
       "      <td>3.0</td>\n",
       "      <td>32.0</td>\n",
       "      <td>19.0</td>\n",
       "      <td>16.0</td>\n",
       "      <td>115.0</td>\n",
       "      <td>8.0</td>\n",
       "      <td>0.0</td>\n",
       "      <td>12.0</td>\n",
       "      <td>0.0</td>\n",
       "    </tr>\n",
       "    <tr>\n",
       "      <th>min</th>\n",
       "      <td>0.0</td>\n",
       "      <td>0.0</td>\n",
       "      <td>0.0</td>\n",
       "      <td>0.0</td>\n",
       "      <td>0.0</td>\n",
       "      <td>0.0</td>\n",
       "      <td>0.0</td>\n",
       "      <td>21.0</td>\n",
       "      <td>0.0</td>\n",
       "    </tr>\n",
       "    <tr>\n",
       "      <th>25%</th>\n",
       "      <td>1.0</td>\n",
       "      <td>99.0</td>\n",
       "      <td>62.0</td>\n",
       "      <td>0.0</td>\n",
       "      <td>0.0</td>\n",
       "      <td>27.0</td>\n",
       "      <td>0.0</td>\n",
       "      <td>24.0</td>\n",
       "      <td>0.0</td>\n",
       "    </tr>\n",
       "    <tr>\n",
       "      <th>50%</th>\n",
       "      <td>3.0</td>\n",
       "      <td>117.0</td>\n",
       "      <td>72.0</td>\n",
       "      <td>23.0</td>\n",
       "      <td>30.0</td>\n",
       "      <td>32.0</td>\n",
       "      <td>0.0</td>\n",
       "      <td>29.0</td>\n",
       "      <td>0.0</td>\n",
       "    </tr>\n",
       "    <tr>\n",
       "      <th>75%</th>\n",
       "      <td>6.0</td>\n",
       "      <td>140.0</td>\n",
       "      <td>80.0</td>\n",
       "      <td>32.0</td>\n",
       "      <td>127.0</td>\n",
       "      <td>37.0</td>\n",
       "      <td>1.0</td>\n",
       "      <td>41.0</td>\n",
       "      <td>1.0</td>\n",
       "    </tr>\n",
       "    <tr>\n",
       "      <th>max</th>\n",
       "      <td>17.0</td>\n",
       "      <td>199.0</td>\n",
       "      <td>122.0</td>\n",
       "      <td>99.0</td>\n",
       "      <td>846.0</td>\n",
       "      <td>67.0</td>\n",
       "      <td>2.0</td>\n",
       "      <td>81.0</td>\n",
       "      <td>1.0</td>\n",
       "    </tr>\n",
       "  </tbody>\n",
       "</table>\n",
       "</div>"
      ],
      "text/plain": [
       "       Pregnancies  Glucose  BloodPressure  SkinThickness  Insulin    BMI  \\\n",
       "count        768.0    768.0          768.0          768.0    768.0  768.0   \n",
       "mean           4.0    121.0           69.0           21.0     80.0   32.0   \n",
       "std            3.0     32.0           19.0           16.0    115.0    8.0   \n",
       "min            0.0      0.0            0.0            0.0      0.0    0.0   \n",
       "25%            1.0     99.0           62.0            0.0      0.0   27.0   \n",
       "50%            3.0    117.0           72.0           23.0     30.0   32.0   \n",
       "75%            6.0    140.0           80.0           32.0    127.0   37.0   \n",
       "max           17.0    199.0          122.0           99.0    846.0   67.0   \n",
       "\n",
       "       DiabetesPedigreeFunction    Age  Outcome  \n",
       "count                     768.0  768.0    768.0  \n",
       "mean                        0.0   33.0      0.0  \n",
       "std                         0.0   12.0      0.0  \n",
       "min                         0.0   21.0      0.0  \n",
       "25%                         0.0   24.0      0.0  \n",
       "50%                         0.0   29.0      0.0  \n",
       "75%                         1.0   41.0      1.0  \n",
       "max                         2.0   81.0      1.0  "
      ]
     },
     "execution_count": 2,
     "metadata": {},
     "output_type": "execute_result"
    }
   ],
   "source": [
    "#descarga base \n",
    "df = pd.read_csv(\"diabetes.csv\")\n",
    "\n",
    "#descipción de la base.\n",
    "df.describe().round()"
   ]
  },
  {
   "cell_type": "code",
   "execution_count": 3,
   "id": "68103494-8510-4286-8b6b-6724b9744f9d",
   "metadata": {},
   "outputs": [
    {
     "name": "stdout",
     "output_type": "stream",
     "text": [
      "<class 'pandas.core.frame.DataFrame'>\n",
      "RangeIndex: 768 entries, 0 to 767\n",
      "Data columns (total 9 columns):\n",
      " #   Column                    Non-Null Count  Dtype  \n",
      "---  ------                    --------------  -----  \n",
      " 0   Pregnancies               768 non-null    int64  \n",
      " 1   Glucose                   768 non-null    int64  \n",
      " 2   BloodPressure             768 non-null    int64  \n",
      " 3   SkinThickness             768 non-null    int64  \n",
      " 4   Insulin                   768 non-null    int64  \n",
      " 5   BMI                       768 non-null    float64\n",
      " 6   DiabetesPedigreeFunction  768 non-null    float64\n",
      " 7   Age                       768 non-null    int64  \n",
      " 8   Outcome                   768 non-null    int64  \n",
      "dtypes: float64(2), int64(7)\n",
      "memory usage: 54.1 KB\n"
     ]
    }
   ],
   "source": [
    "# Información de la base de datos.\n",
    "df.info()"
   ]
  },
  {
   "cell_type": "markdown",
   "id": "6f5114a2-9baa-4f5c-b607-2dcdc02ddf25",
   "metadata": {},
   "source": [
    "## División de la base de datos\n",
    "Una vez que se depuró la base de datos, se procede a realizar la división de la misma en el set de entrenamiento y prueba. Además, se utilizará una división de 75-25 para el train y test respectivamente."
   ]
  },
  {
   "cell_type": "code",
   "execution_count": 4,
   "id": "ff00a5f5-3c42-4828-a1ac-e385db88c0d0",
   "metadata": {},
   "outputs": [],
   "source": [
    "# Se extrae la variable a predecir del set de datos, en este caso Outcome. De esta forma quedan variables independientes de la\n",
    "# variable a predecir.\n",
    "# ==============================================================================\n",
    "X = df.drop([\"Outcome\"],axis = 1)\n",
    "\n",
    "Y = df.Outcome\n",
    "\n",
    "X_train, X_test, Y_train, Y_test = train_test_split(\n",
    "                                        X,\n",
    "                                        Y,\n",
    "                                        train_size   = 0.75,\n",
    "                                        random_state = 1234,\n",
    "                                        shuffle      = True\n",
    "                                    )"
   ]
  },
  {
   "cell_type": "markdown",
   "id": "385c1bca-d5a2-487a-a742-aa6a207981a3",
   "metadata": {},
   "source": [
    "## SVM lineal\n"
   ]
  },
  {
   "cell_type": "markdown",
   "id": "09069efb-b382-40f0-9b6e-0d201e9958ef",
   "metadata": {},
   "source": [
    "Primero, se utilizará su versión lineal."
   ]
  },
  {
   "cell_type": "code",
   "execution_count": 5,
   "id": "838d5b75-cd39-4cb4-83b7-827ac8b67fa2",
   "metadata": {},
   "outputs": [
    {
     "data": {
      "text/html": [
       "<style>#sk-container-id-1 {color: black;background-color: white;}#sk-container-id-1 pre{padding: 0;}#sk-container-id-1 div.sk-toggleable {background-color: white;}#sk-container-id-1 label.sk-toggleable__label {cursor: pointer;display: block;width: 100%;margin-bottom: 0;padding: 0.3em;box-sizing: border-box;text-align: center;}#sk-container-id-1 label.sk-toggleable__label-arrow:before {content: \"▸\";float: left;margin-right: 0.25em;color: #696969;}#sk-container-id-1 label.sk-toggleable__label-arrow:hover:before {color: black;}#sk-container-id-1 div.sk-estimator:hover label.sk-toggleable__label-arrow:before {color: black;}#sk-container-id-1 div.sk-toggleable__content {max-height: 0;max-width: 0;overflow: hidden;text-align: left;background-color: #f0f8ff;}#sk-container-id-1 div.sk-toggleable__content pre {margin: 0.2em;color: black;border-radius: 0.25em;background-color: #f0f8ff;}#sk-container-id-1 input.sk-toggleable__control:checked~div.sk-toggleable__content {max-height: 200px;max-width: 100%;overflow: auto;}#sk-container-id-1 input.sk-toggleable__control:checked~label.sk-toggleable__label-arrow:before {content: \"▾\";}#sk-container-id-1 div.sk-estimator input.sk-toggleable__control:checked~label.sk-toggleable__label {background-color: #d4ebff;}#sk-container-id-1 div.sk-label input.sk-toggleable__control:checked~label.sk-toggleable__label {background-color: #d4ebff;}#sk-container-id-1 input.sk-hidden--visually {border: 0;clip: rect(1px 1px 1px 1px);clip: rect(1px, 1px, 1px, 1px);height: 1px;margin: -1px;overflow: hidden;padding: 0;position: absolute;width: 1px;}#sk-container-id-1 div.sk-estimator {font-family: monospace;background-color: #f0f8ff;border: 1px dotted black;border-radius: 0.25em;box-sizing: border-box;margin-bottom: 0.5em;}#sk-container-id-1 div.sk-estimator:hover {background-color: #d4ebff;}#sk-container-id-1 div.sk-parallel-item::after {content: \"\";width: 100%;border-bottom: 1px solid gray;flex-grow: 1;}#sk-container-id-1 div.sk-label:hover label.sk-toggleable__label {background-color: #d4ebff;}#sk-container-id-1 div.sk-serial::before {content: \"\";position: absolute;border-left: 1px solid gray;box-sizing: border-box;top: 0;bottom: 0;left: 50%;z-index: 0;}#sk-container-id-1 div.sk-serial {display: flex;flex-direction: column;align-items: center;background-color: white;padding-right: 0.2em;padding-left: 0.2em;position: relative;}#sk-container-id-1 div.sk-item {position: relative;z-index: 1;}#sk-container-id-1 div.sk-parallel {display: flex;align-items: stretch;justify-content: center;background-color: white;position: relative;}#sk-container-id-1 div.sk-item::before, #sk-container-id-1 div.sk-parallel-item::before {content: \"\";position: absolute;border-left: 1px solid gray;box-sizing: border-box;top: 0;bottom: 0;left: 50%;z-index: -1;}#sk-container-id-1 div.sk-parallel-item {display: flex;flex-direction: column;z-index: 1;position: relative;background-color: white;}#sk-container-id-1 div.sk-parallel-item:first-child::after {align-self: flex-end;width: 50%;}#sk-container-id-1 div.sk-parallel-item:last-child::after {align-self: flex-start;width: 50%;}#sk-container-id-1 div.sk-parallel-item:only-child::after {width: 0;}#sk-container-id-1 div.sk-dashed-wrapped {border: 1px dashed gray;margin: 0 0.4em 0.5em 0.4em;box-sizing: border-box;padding-bottom: 0.4em;background-color: white;}#sk-container-id-1 div.sk-label label {font-family: monospace;font-weight: bold;display: inline-block;line-height: 1.2em;}#sk-container-id-1 div.sk-label-container {text-align: center;}#sk-container-id-1 div.sk-container {/* jupyter's `normalize.less` sets `[hidden] { display: none; }` but bootstrap.min.css set `[hidden] { display: none !important; }` so we also need the `!important` here to be able to override the default hidden behavior on the sphinx rendered scikit-learn.org. See: https://github.com/scikit-learn/scikit-learn/issues/21755 */display: inline-block !important;position: relative;}#sk-container-id-1 div.sk-text-repr-fallback {display: none;}</style><div id=\"sk-container-id-1\" class=\"sk-top-container\"><div class=\"sk-text-repr-fallback\"><pre>SVC(C=100, kernel=&#x27;linear&#x27;, random_state=123)</pre><b>In a Jupyter environment, please rerun this cell to show the HTML representation or trust the notebook. <br />On GitHub, the HTML representation is unable to render, please try loading this page with nbviewer.org.</b></div><div class=\"sk-container\" hidden><div class=\"sk-item\"><div class=\"sk-estimator sk-toggleable\"><input class=\"sk-toggleable__control sk-hidden--visually\" id=\"sk-estimator-id-1\" type=\"checkbox\" checked><label for=\"sk-estimator-id-1\" class=\"sk-toggleable__label sk-toggleable__label-arrow\">SVC</label><div class=\"sk-toggleable__content\"><pre>SVC(C=100, kernel=&#x27;linear&#x27;, random_state=123)</pre></div></div></div></div></div>"
      ],
      "text/plain": [
       "SVC(C=100, kernel='linear', random_state=123)"
      ]
     },
     "execution_count": 5,
     "metadata": {},
     "output_type": "execute_result"
    }
   ],
   "source": [
    "modelo_lineal = SVC(C = 100, kernel = 'linear', random_state=123)\n",
    "modelo_lineal.fit(X_train, Y_train)"
   ]
  },
  {
   "cell_type": "code",
   "execution_count": 6,
   "id": "fae10797-0933-42ec-ad4e-81382b5edd6a",
   "metadata": {},
   "outputs": [
    {
     "data": {
      "text/plain": [
       "array([0, 1, 0, 0, 0, 1, 0, 0, 1, 0, 1, 0, 0, 0, 0, 0, 1, 0, 0, 0, 1, 1,\n",
       "       0, 1, 0, 0, 0, 1, 0, 0, 0, 0, 1, 1, 1, 1, 0, 0, 0, 0, 0, 0, 1, 0,\n",
       "       0, 0, 0, 0, 0, 0, 1, 1, 1, 0, 1, 0, 0, 0, 0, 0, 1, 0, 0, 0, 0, 0,\n",
       "       0, 0, 0, 0, 1, 0, 0, 0, 0, 1, 0, 0, 0, 0, 0, 1, 1, 0, 0, 1, 0, 0,\n",
       "       0, 0, 0, 1, 0, 0, 0, 1, 0, 0, 0, 1, 0, 1, 0, 0, 0, 0, 1, 1, 1, 1,\n",
       "       0, 0, 0, 0, 0, 0, 0, 1, 0, 0, 0, 1, 1, 0, 0, 0, 0, 0, 0, 0, 0, 0,\n",
       "       0, 0, 0, 0, 0, 0, 0, 0, 0, 0, 0, 0, 0, 0, 1, 0, 0, 0, 1, 0, 0, 1,\n",
       "       0, 1, 1, 0, 0, 1, 1, 0, 0, 1, 1, 1, 0, 0, 0, 0, 0, 0, 0, 0, 0, 0,\n",
       "       0, 0, 0, 0, 0, 0, 1, 1, 0, 0, 0, 0, 1, 0, 0, 0], dtype=int64)"
      ]
     },
     "execution_count": 6,
     "metadata": {},
     "output_type": "execute_result"
    }
   ],
   "source": [
    "# Predicciones test\n",
    "# ==============================================================================\n",
    "predicciones = modelo_lineal.predict(X_test)\n",
    "predicciones"
   ]
  },
  {
   "cell_type": "code",
   "execution_count": 7,
   "id": "49fefe1c-2e4e-45c5-8449-e51a160ec577",
   "metadata": {},
   "outputs": [
    {
     "name": "stdout",
     "output_type": "stream",
     "text": [
      "\n",
      "La precisión del test es: 76.5625%\n"
     ]
    }
   ],
   "source": [
    "# Precisión de test del modelo \n",
    "# ==============================================================================\n",
    "accuracy = accuracy_score(\n",
    "            y_true    = Y_test,\n",
    "            y_pred    = predicciones,\n",
    "            normalize = True\n",
    "           )\n",
    "print(\"\")\n",
    "print(f\"La precisión del test es: {100*accuracy}%\")"
   ]
  },
  {
   "cell_type": "markdown",
   "id": "7e026129-65c0-4f93-9d11-1d575a6a745f",
   "metadata": {},
   "source": [
    "## SVM radial"
   ]
  },
  {
   "cell_type": "markdown",
   "id": "9800e114-c751-42bc-8a1d-0e4707136082",
   "metadata": {},
   "source": [
    "Ahora, también se observará la predicción con la versión radial del modelo."
   ]
  },
  {
   "cell_type": "code",
   "execution_count": 8,
   "id": "b7987ff9-c572-48ea-b6e1-fcc6d91b6164",
   "metadata": {},
   "outputs": [
    {
     "data": {
      "text/html": [
       "<div>\n",
       "<style scoped>\n",
       "    .dataframe tbody tr th:only-of-type {\n",
       "        vertical-align: middle;\n",
       "    }\n",
       "\n",
       "    .dataframe tbody tr th {\n",
       "        vertical-align: top;\n",
       "    }\n",
       "\n",
       "    .dataframe thead th {\n",
       "        text-align: right;\n",
       "    }\n",
       "</style>\n",
       "<table border=\"1\" class=\"dataframe\">\n",
       "  <thead>\n",
       "    <tr style=\"text-align: right;\">\n",
       "      <th></th>\n",
       "      <th>param_C</th>\n",
       "      <th>mean_test_score</th>\n",
       "      <th>std_test_score</th>\n",
       "      <th>mean_train_score</th>\n",
       "      <th>std_train_score</th>\n",
       "    </tr>\n",
       "  </thead>\n",
       "  <tbody>\n",
       "    <tr>\n",
       "      <th>10</th>\n",
       "      <td>20.691381</td>\n",
       "      <td>0.776042</td>\n",
       "      <td>0.018537</td>\n",
       "      <td>0.800347</td>\n",
       "      <td>0.003248</td>\n",
       "    </tr>\n",
       "    <tr>\n",
       "      <th>9</th>\n",
       "      <td>4.83293</td>\n",
       "      <td>0.772569</td>\n",
       "      <td>0.012992</td>\n",
       "      <td>0.791667</td>\n",
       "      <td>0.007666</td>\n",
       "    </tr>\n",
       "    <tr>\n",
       "      <th>13</th>\n",
       "      <td>1623.776739</td>\n",
       "      <td>0.767361</td>\n",
       "      <td>0.019642</td>\n",
       "      <td>0.860243</td>\n",
       "      <td>0.013835</td>\n",
       "    </tr>\n",
       "    <tr>\n",
       "      <th>11</th>\n",
       "      <td>88.586679</td>\n",
       "      <td>0.765625</td>\n",
       "      <td>0.023677</td>\n",
       "      <td>0.816840</td>\n",
       "      <td>0.006835</td>\n",
       "    </tr>\n",
       "    <tr>\n",
       "      <th>12</th>\n",
       "      <td>379.269019</td>\n",
       "      <td>0.762153</td>\n",
       "      <td>0.023421</td>\n",
       "      <td>0.833333</td>\n",
       "      <td>0.003683</td>\n",
       "    </tr>\n",
       "  </tbody>\n",
       "</table>\n",
       "</div>"
      ],
      "text/plain": [
       "        param_C  mean_test_score  std_test_score  mean_train_score  \\\n",
       "10    20.691381         0.776042        0.018537          0.800347   \n",
       "9       4.83293         0.772569        0.012992          0.791667   \n",
       "13  1623.776739         0.767361        0.019642          0.860243   \n",
       "11    88.586679         0.765625        0.023677          0.816840   \n",
       "12   379.269019         0.762153        0.023421          0.833333   \n",
       "\n",
       "    std_train_score  \n",
       "10         0.003248  \n",
       "9          0.007666  \n",
       "13         0.013835  \n",
       "11         0.006835  \n",
       "12         0.003683  "
      ]
     },
     "execution_count": 8,
     "metadata": {},
     "output_type": "execute_result"
    }
   ],
   "source": [
    "# Grid de hiperparámetros\n",
    "# ==============================================================================\n",
    "param_grid = {'C': np.logspace(-5, 7, 20)}\n",
    "\n",
    "# Búsqueda por validación cruzada\n",
    "# ==============================================================================\n",
    "grid = GridSearchCV(\n",
    "        estimator  = SVC(kernel= \"rbf\", gamma='scale'),\n",
    "        param_grid = param_grid,\n",
    "        scoring    = 'accuracy',\n",
    "        n_jobs     = -1,\n",
    "        cv         = 3, \n",
    "        verbose    = 0,\n",
    "        return_train_score = True\n",
    "      )\n",
    "\n",
    "_ = grid.fit(X = X_train, y = Y_train)\n",
    "\n",
    "# Resultados del grid\n",
    "# ==============================================================================\n",
    "resultados = pd.DataFrame(grid.cv_results_)\n",
    "resultados.filter(regex = '(param.*|mean_t|std_t)')\\\n",
    "    .drop(columns = 'params')\\\n",
    "    .sort_values('mean_test_score', ascending = False) \\\n",
    "    .head(5)"
   ]
  },
  {
   "cell_type": "code",
   "execution_count": 9,
   "id": "2ef65011-e4ed-4466-9d4b-ee8878406c79",
   "metadata": {},
   "outputs": [
    {
     "name": "stdout",
     "output_type": "stream",
     "text": [
      "----------------------------------------\n",
      "Mejores hiperparámetros encontrados (cv)\n",
      "----------------------------------------\n",
      "{'C': 20.6913808111479} : 0.7760416666666666 accuracy\n"
     ]
    }
   ],
   "source": [
    "# Mejores hiperparámetros por validación cruzada\n",
    "# ==============================================================================\n",
    "print(\"----------------------------------------\")\n",
    "print(\"Mejores hiperparámetros encontrados (cv)\")\n",
    "print(\"----------------------------------------\")\n",
    "print(grid.best_params_, \":\", grid.best_score_, grid.scoring)\n",
    "\n",
    "modelo = grid.best_estimator_"
   ]
  },
  {
   "cell_type": "code",
   "execution_count": 10,
   "id": "188db125-b4b1-4e34-9f7d-eb8584898dd2",
   "metadata": {},
   "outputs": [],
   "source": [
    "# Predicciones test\n",
    "# ==============================================================================\n",
    "predicciones = modelo.predict(X_test)"
   ]
  },
  {
   "cell_type": "code",
   "execution_count": 11,
   "id": "ea6df0f0-caf4-4a49-8937-5624fe40aad1",
   "metadata": {},
   "outputs": [
    {
     "name": "stdout",
     "output_type": "stream",
     "text": [
      "\n",
      "La precisión del test es: 74.47916666666666%\n"
     ]
    }
   ],
   "source": [
    "# Precisón de test del modelo \n",
    "# ==============================================================================\n",
    "accuracy = accuracy_score(\n",
    "            y_true    = Y_test,\n",
    "            y_pred    = predicciones,\n",
    "            normalize = True\n",
    "           )\n",
    "print(\"\")\n",
    "print(f\"La precisión del test es: {100*accuracy}%\")"
   ]
  },
  {
   "cell_type": "markdown",
   "id": "80ac1cad-8fed-4da7-89cc-fbe5d74b6e4e",
   "metadata": {},
   "source": [
    "Con un modelo SVM de kernel radial se consigue clasificar correctamente el 76.62% de las observaciones de test. "
   ]
  },
  {
   "cell_type": "markdown",
   "id": "2f41dac9-a26f-4990-957b-e7227080d5e5",
   "metadata": {},
   "source": [
    "## Matriz de confusión de las predicciones de test"
   ]
  },
  {
   "cell_type": "markdown",
   "id": "e03d1ca4-56b9-4c4f-bafa-eca4eb147ca9",
   "metadata": {},
   "source": [
    "Gráfico de matriz de confusión para la versión lineal."
   ]
  },
  {
   "cell_type": "code",
   "execution_count": 12,
   "id": "c27edc82-81c6-4971-a901-637e616e7ad4",
   "metadata": {},
   "outputs": [
    {
     "data": {
      "image/png": "[encoded data removed]",
      "text/plain": [
       "<Figure size 600x600 with 1 Axes>"
      ]
     },
     "metadata": {},
     "output_type": "display_data"
    }
   ],
   "source": [
    "from mlxtend.plotting import plot_confusion_matrix\n",
    "from sklearn.metrics import confusion_matrix\n",
    "\n",
    "Y_pred = modelo_lineal.predict(X_test)\n",
    "matriz = confusion_matrix(Y_test,Y_pred)\n",
    "\n",
    "plot_confusion_matrix(conf_mat=matriz, figsize=(6,6), show_normed=False)\n",
    "plt.tight_layout()"
   ]
  },
  {
   "cell_type": "markdown",
   "id": "e02587fe-477a-41e1-9b1b-c3b762550a44",
   "metadata": {},
   "source": [
    "Gráfico de matriz de confusión para la versión radial."
   ]
  },
  {
   "cell_type": "code",
   "execution_count": 13,
   "id": "3a52d31c-9ab7-4709-9944-182e84771c52",
   "metadata": {},
   "outputs": [
    {
     "data": {
      "image/png": "[encoded data removed]",
      "text/plain": [
       "<Figure size 600x600 with 1 Axes>"
      ]
     },
     "metadata": {},
     "output_type": "display_data"
    }
   ],
   "source": [
    "Y_pred = modelo.predict(X_test)\n",
    "matriz = confusion_matrix(Y_test,Y_pred)\n",
    "\n",
    "plot_confusion_matrix(conf_mat=matriz, figsize=(6,6), show_normed=False)\n",
    "plt.tight_layout()"
   ]
  },
  {
   "cell_type": "markdown",
   "id": "40ddab51-d6df-44a1-8cc6-81dbf7b3ca80",
   "metadata": {},
   "source": [
    "# Importancia de las características"
   ]
  },
  {
   "cell_type": "markdown",
   "id": "804fc0fe-2c9e-4556-91e6-164e73423725",
   "metadata": {},
   "source": [
    "Primero, veamos la importancia de las características en el caso lineal."
   ]
  },
  {
   "cell_type": "code",
   "execution_count": 14,
   "id": "3b263843-75f6-459f-a031-1fbc5ae01bb0",
   "metadata": {},
   "outputs": [
    {
     "name": "stdout",
     "output_type": "stream",
     "text": [
      "                    Feature  Importance\n",
      "0               Pregnancies    0.019792\n",
      "1                   Glucose    0.140104\n",
      "2             BloodPressure    0.013672\n",
      "3             SkinThickness    0.002865\n",
      "4                   Insulin    0.008203\n",
      "5                       BMI    0.046745\n",
      "6  DiabetesPedigreeFunction    0.022266\n",
      "7                       Age    0.000911\n"
     ]
    }
   ],
   "source": [
    "# Obtener las importancias de características mediante permutación\n",
    "result = permutation_importance(modelo_lineal, X, Y, n_repeats=10, random_state=123, n_jobs=2)\n",
    "\n",
    "importancias = result.importances_mean\n",
    "\n",
    "# Crear un DataFrame para visualizar las importancias\n",
    "variables = X.columns\n",
    "permutation_importancias_1 = pd.DataFrame({\"Feature\": variables, \"Importance\": importancias})\n",
    "print(permutation_importancias_1)"
   ]
  },
  {
   "cell_type": "code",
   "execution_count": 15,
   "id": "95295d4f-913a-41dc-a1cf-30a304481f0d",
   "metadata": {},
   "outputs": [
    {
     "data": {
      "image/png": "[encoded data removed]",
      "text/plain": [
       "<Figure size 1000x600 with 1 Axes>"
      ]
     },
     "metadata": {},
     "output_type": "display_data"
    }
   ],
   "source": [
    "plt.figure(figsize=(10, 6))\n",
    "plt.barh(permutation_importancias_1[\"Feature\"], permutation_importancias_1[\"Importance\"], color='skyblue')\n",
    "plt.xlabel('Importance')\n",
    "plt.ylabel('Feature')\n",
    "plt.title('Feature Importances')\n",
    "plt.tight_layout()\n",
    "plt.show()"
   ]
  },
  {
   "cell_type": "markdown",
   "id": "1aa9e8e4-ea15-4b27-a9f8-d7805a1fe0a1",
   "metadata": {},
   "source": [
    "Ahora, veamos la importancia de las características en el caso radial."
   ]
  },
  {
   "cell_type": "code",
   "execution_count": 16,
   "id": "6a01591b-c500-4cc7-93a6-22d03a417dad",
   "metadata": {},
   "outputs": [
    {
     "name": "stdout",
     "output_type": "stream",
     "text": [
      "                    Feature  Importance\n",
      "0               Pregnancies    0.004297\n",
      "1                   Glucose    0.144010\n",
      "2             BloodPressure    0.008464\n",
      "3             SkinThickness    0.005729\n",
      "4                   Insulin    0.021484\n",
      "5                       BMI    0.025391\n",
      "6  DiabetesPedigreeFunction   -0.001302\n",
      "7                       Age    0.007552\n"
     ]
    }
   ],
   "source": [
    "# Obtener las importancias de características mediante permutación\n",
    "result = permutation_importance(modelo, X, Y, n_repeats=10, random_state=123, n_jobs=2)\n",
    "\n",
    "importancias = result.importances_mean\n",
    "\n",
    "# Crear un DataFrame para visualizar las importancias\n",
    "variables = X.columns\n",
    "permutation_importancias = pd.DataFrame({\"Feature\": variables, \"Importance\": importancias})\n",
    "print(permutation_importancias)"
   ]
  },
  {
   "cell_type": "code",
   "execution_count": 17,
   "id": "77659782-ec76-43e7-9a16-2a6456bd7563",
   "metadata": {},
   "outputs": [
    {
     "data": {
      "image/png": "[encoded data removed]",
      "text/plain": [
       "<Figure size 1000x600 with 1 Axes>"
      ]
     },
     "metadata": {},
     "output_type": "display_data"
    }
   ],
   "source": [
    "plt.figure(figsize=(10, 6))\n",
    "plt.barh(permutation_importancias[\"Feature\"], permutation_importancias[\"Importance\"], color='skyblue')\n",
    "plt.xlabel('Importance')\n",
    "plt.ylabel('Feature')\n",
    "plt.title('Feature Importances')\n",
    "plt.tight_layout()\n",
    "plt.show()"
   ]
  }
 ],
 "metadata": {
  "kernelspec": {
   "display_name": "Python 3 (ipykernel)",
   "language": "python",
   "name": "python3"
  },
  "language_info": {
   "codemirror_mode": {
    "name": "ipython",
    "version": 3
   },
   "file_extension": ".py",
   "mimetype": "text/x-python",
   "name": "python",
   "nbconvert_exporter": "python",
   "pygments_lexer": "ipython3",
   "version": "3.11.7"
  }
 },
 "nbformat": 4,
 "nbformat_minor": 5
}
